{
 "cells": [
  {
   "cell_type": "markdown",
   "id": "f951a581",
   "metadata": {},
   "source": [
    "#Explain the significance of Python keywords and provide examples of five keywords?\n",
    "\n",
    "Ans ==> python has its own keywords that is reserved to perform some specific task like :-(if:-it used to check condition if it is true than evaluate the statement) and many more keywords are used for performing reserved task.\n"
   ]
  },
  {
   "cell_type": "code",
   "execution_count": 2,
   "id": "454839b4",
   "metadata": {},
   "outputs": [
    {
     "name": "stdout",
     "output_type": "stream",
     "text": [
      "\n",
      "Here is a list of the Python keywords.  Enter any keyword to get more help.\n",
      "\n",
      "False               class               from                or\n",
      "None                continue            global              pass\n",
      "True                def                 if                  raise\n",
      "and                 del                 import              return\n",
      "as                  elif                in                  try\n",
      "assert              else                is                  while\n",
      "async               except              lambda              with\n",
      "await               finally             nonlocal            yield\n",
      "break               for                 not                 \n",
      "\n"
     ]
    }
   ],
   "source": [
    "# Different keywords for eg:-\n",
    "help(\"keywords\")\n"
   ]
  },
  {
   "cell_type": "code",
   "execution_count": 7,
   "id": "eed09e27",
   "metadata": {},
   "outputs": [
    {
     "data": {
      "text/plain": [
       "True"
      ]
     },
     "execution_count": 7,
     "metadata": {},
     "output_type": "execute_result"
    }
   ],
   "source": [
    "l=['rashmi','khushi',8,99,12]\n",
    "'rashmi' in l #in keyword check the value is present or not"
   ]
  },
  {
   "cell_type": "code",
   "execution_count": 8,
   "id": "5de38067",
   "metadata": {},
   "outputs": [
    {
     "data": {
      "text/plain": [
       "True"
      ]
     },
     "execution_count": 8,
     "metadata": {},
     "output_type": "execute_result"
    }
   ],
   "source": [
    "a=\"rashmi\"\n",
    "b=a\n",
    "a is b # is operator is  to compare the value are same or not"
   ]
  },
  {
   "cell_type": "code",
   "execution_count": null,
   "id": "52141213",
   "metadata": {},
   "outputs": [],
   "source": [
    "a1=int(input())\n",
    "a2=int(input())\n",
    "if(a1==a2):\n",
    "    print(\"both are Equal.\")\n",
    "elif(a1>a2):\n",
    "    print(\"a1 is greator than a2.\")\n",
    "elif(a1<a2):\n",
    "    print(\"a2 is greator than a1.\") \n",
    "else:\n",
    "    print(\"not equal.\")"
   ]
  },
  {
   "cell_type": "markdown",
   "id": "b09c0914",
   "metadata": {},
   "source": [
    "#Describe the rules for defining identifiers in Python and provide an example?\n",
    "\n",
    "Ans ==> Identifier is used to provide the unique identity to any variaable it is mainly composed of alphabets(lower case / upper case) as well as numbers but the identifier name should not start with number and it also use Underscore."
   ]
  },
  {
   "cell_type": "code",
   "execution_count": 1,
   "id": "ead91bee",
   "metadata": {},
   "outputs": [
    {
     "name": "stdout",
     "output_type": "stream",
     "text": [
      "12\n",
      "14\n",
      "26\n"
     ]
    }
   ],
   "source": [
    "#Examples of identifier\n",
    "\n",
    "Number_1=int(input())\n",
    "Number_2=int(input())\n",
    "sum_of_numbers=Number_1+Number_2\n",
    "print(sum_of_numbers)"
   ]
  },
  {
   "cell_type": "markdown",
   "id": "88f8bc2f",
   "metadata": {},
   "source": [
    "#What are comments in Python, and why are they useful ? Provide an example.\n",
    "\n",
    "Ans ==>  comments are not the part of the python code they just simply provide the extra information regarding to the code.\n",
    "         The comments are usefull because it provide understanding attualy what happend in the code. There are two types of\n",
    "         comments in python single line comment by writing using (#) , and multiline comment in python by writing using ('''  '''/\"\"\"  \"\"\")\n",
    "         "
   ]
  },
  {
   "cell_type": "code",
   "execution_count": 5,
   "id": "8b3b804a",
   "metadata": {},
   "outputs": [
    {
     "name": "stdout",
     "output_type": "stream",
     "text": [
      "45\n",
      "88\n",
      "133\n"
     ]
    }
   ],
   "source": [
    "# Example of python comments ===>single line comment\n",
    "Number_1=int(input())\n",
    "Number_2=int(input())\n",
    "sum_of_numbers=Number_1+Number_2\n",
    "print(sum_of_numbers)"
   ]
  },
  {
   "cell_type": "markdown",
   "id": "dab91c15",
   "metadata": {},
   "source": [
    "# Why is proper indentation is important.\n",
    "\n",
    "Ans==> Indentaion helps our code to provide proper structure and make code easier to understand"
   ]
  },
  {
   "cell_type": "markdown",
   "id": "c48e0476",
   "metadata": {},
   "source": [
    "# What happens if indentation is incorrect in Python?\n",
    "\n",
    "Ans==> if the indentaion is incorrect then the code throw an error because indetation plays huge role in loops ,Conditional statement etc. and we are not enable to understand the code easily.  "
   ]
  },
  {
   "cell_type": "markdown",
   "id": "947901b5",
   "metadata": {},
   "source": [
    "# Differentiate between expression and statement in Python with examples\n",
    "\n",
    "Ans==>  Expression :- it is the combination of operators and operands.\n",
    "        Statement  :- it is used to creating values and displaying Variable."
   ]
  },
  {
   "cell_type": "code",
   "execution_count": 6,
   "id": "baebd581",
   "metadata": {},
   "outputs": [
    {
     "name": "stdout",
     "output_type": "stream",
     "text": [
      "80\n"
     ]
    }
   ],
   "source": [
    "X=50 # statement\n",
    "X=X+30 #Expression\n",
    "print(X)"
   ]
  }
 ],
 "metadata": {
  "kernelspec": {
   "display_name": "Python 3 (ipykernel)",
   "language": "python",
   "name": "python3"
  },
  "language_info": {
   "codemirror_mode": {
    "name": "ipython",
    "version": 3
   },
   "file_extension": ".py",
   "mimetype": "text/x-python",
   "name": "python",
   "nbconvert_exporter": "python",
   "pygments_lexer": "ipython3",
   "version": "3.11.5"
  }
 },
 "nbformat": 4,
 "nbformat_minor": 5
}
